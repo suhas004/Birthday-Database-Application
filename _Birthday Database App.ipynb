{
 "cells": [
  {
   "cell_type": "code",
   "execution_count": null,
   "metadata": {},
   "outputs": [
    {
     "name": "stdout",
     "output_type": "stream",
     "text": [
      "WELCOME TO Birthday Database App\n",
      "Enter the name.....   \n"
     ]
    }
   ],
   "source": [
    "bdays={'suhas':'4 feb 2000 '}\n",
    "print(\"WELCOME TO Birthday Database App\")\n",
    "while True :  #this condition will always be true\n",
    "    print(\"Enter the name.....   \")\n",
    "    name=input()\n",
    "    if name in bdays:\n",
    "        print(bdays[name]+' is the birthday of '+name)\n",
    "        print(\"To check next person birthday database ...Please enter 1(to continue) or 0 (to exit)\")\n",
    "        x=int(input())\n",
    "        if x==1:\n",
    "            pass            \n",
    "        else:\n",
    "            break\n",
    "    else:\n",
    "        print(\"sorry I could not find any database about your name\")\n",
    "        print(\"I can update in my Database if you say what's there bday is ...\")\n",
    "        print(\"To continue please enter 1(next step) or 0(exit))\")\n",
    "        a=int(input())\n",
    "        if a == 1:\n",
    "            print(\"Please enter the - day month year respectively\") \n",
    "            bdays[name]=input()\n",
    "            print(\"Hurray! Your birthday database is updated\")\n",
    "            print(\"To check next person birthday database ...Please enter 1(to continue) or 0 (to exit)\")\n",
    "            x=int(input())\n",
    "            if x==1:\n",
    "                pass\n",
    "            else:\n",
    "                break\n",
    "        else:\n",
    "            \n",
    "            print(\"Thank you\")\n",
    "            break\n",
    "print(\"Heaa! wait before leaving can you please rate our app\")\n",
    "print(\"Enter 1 (To continue) or 0 (to exit)\")\n",
    "z=int(input())\n",
    "if z==1:    \n",
    "    while True:\n",
    "        print(\"Rate us in the scale of 1-10\")         \n",
    "        w=int(input())\n",
    "        if w<11:\n",
    "            print(\"Thank you for your feedback\")\n",
    "            print(\"Have a great day\")\n",
    "            break\n",
    "        else:\n",
    "            print(\"You are crazy\")\n",
    "else:\n",
    "    print(\"THANK YOU\")\n",
    "    "
   ]
  },
  {
   "cell_type": "code",
   "execution_count": null,
   "metadata": {},
   "outputs": [],
   "source": []
  },
  {
   "cell_type": "code",
   "execution_count": null,
   "metadata": {},
   "outputs": [],
   "source": []
  },
  {
   "cell_type": "code",
   "execution_count": null,
   "metadata": {},
   "outputs": [],
   "source": []
  },
  {
   "cell_type": "code",
   "execution_count": null,
   "metadata": {},
   "outputs": [],
   "source": []
  },
  {
   "cell_type": "code",
   "execution_count": null,
   "metadata": {},
   "outputs": [],
   "source": []
  }
 ],
 "metadata": {
  "kernelspec": {
   "display_name": "Python 3",
   "language": "python",
   "name": "python3"
  },
  "language_info": {
   "codemirror_mode": {
    "name": "ipython",
    "version": 3
   },
   "file_extension": ".py",
   "mimetype": "text/x-python",
   "name": "python",
   "nbconvert_exporter": "python",
   "pygments_lexer": "ipython3",
   "version": "3.7.3"
  }
 },
 "nbformat": 4,
 "nbformat_minor": 2
}
